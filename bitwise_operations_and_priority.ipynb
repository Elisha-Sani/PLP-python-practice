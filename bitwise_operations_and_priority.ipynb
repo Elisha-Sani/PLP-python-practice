{
  "nbformat": 4,
  "nbformat_minor": 0,
  "metadata": {
    "colab": {
      "name": "bitwise operations and priority",
      "provenance": [],
      "collapsed_sections": [],
      "authorship_tag": "ABX9TyN2KJbZ/4EWVjmlJ5t9KVmS",
      "include_colab_link": true
    },
    "kernelspec": {
      "name": "python3",
      "display_name": "Python 3"
    },
    "language_info": {
      "name": "python"
    }
  },
  "cells": [
    {
      "cell_type": "markdown",
      "metadata": {
        "id": "view-in-github",
        "colab_type": "text"
      },
      "source": [
        "<a href=\"https://colab.research.google.com/github/Elisha-Sani/PLP-python-practice/blob/main/bitwise_operations_and_priority.ipynb\" target=\"_parent\"><img src=\"https://colab.research.google.com/assets/colab-badge.svg\" alt=\"Open In Colab\"/></a>"
      ]
    },
    {
      "cell_type": "code",
      "source": [
        "y= int(input('Enter any positive number(y)'))\n",
        "if y < 0 : raise ValueError('Input y must be positive numbers only') #if statement to raise error if input is negative\n",
        "z= int(input('Enter any positive number(z)')) \n",
        "if z < 0 : raise ValueError('Input z must be positive numbers only') #if statement to raise error if input is negative\n",
        "def add(y, z):\n",
        "  while (z !=0) :\n",
        "    carry = y & z\n",
        "    y = y ^ z\n",
        "    z = carry << 1\n",
        "    return y\n",
        "\n",
        "print(add(y, z))\n",
        "\n"
      ],
      "metadata": {
        "colab": {
          "base_uri": "https://localhost:8080/"
        },
        "id": "USt86p_e4xYp",
        "outputId": "d0bef291-7b0b-471f-c55b-2209a23a0e35"
      },
      "execution_count": null,
      "outputs": [
        {
          "output_type": "stream",
          "name": "stdout",
          "text": [
            "Enter any positive number(y)9\n",
            "Enter any positive number(z)4\n",
            "13\n"
          ]
        }
      ]
    },
    {
      "cell_type": "code",
      "source": [
        "_operators_ = '+', '-', '*', '/'\n",
        "operator1 = input('enter first operator')\n",
        "operator2 = input('enter second operator')\n",
        "_priority_ = {\n",
        "    '+' : 3,\n",
        "    '-' : 3,\n",
        "    '*' : 1,\n",
        "    '/' : 2,\n",
        "}\n",
        "def higher_priority(operator1, operator2):\n",
        "  return _priority_[operator1] <= _priority_[operator2] \n",
        "\n",
        "print(higher_priority(operator1, operator2))\n",
        "  \n",
        "\n"
      ],
      "metadata": {
        "colab": {
          "base_uri": "https://localhost:8080/"
        },
        "id": "MZrqq0pcLmX5",
        "outputId": "898b3937-4d1d-4ff0-827f-1f2891669335"
      },
      "execution_count": null,
      "outputs": [
        {
          "output_type": "stream",
          "name": "stdout",
          "text": [
            "enter first operator+\n",
            "enter second operator/\n",
            "False\n"
          ]
        }
      ]
    }
  ]
}